{
 "cells": [
  {
   "cell_type": "code",
   "execution_count": 3,
   "id": "e868c116",
   "metadata": {},
   "outputs": [
    {
     "name": "stdout",
     "output_type": "stream",
     "text": [
      "heloo world\n"
     ]
    }
   ],
   "source": [
    "print('heloo world')"
   ]
  },
  {
   "cell_type": "code",
   "execution_count": 4,
   "id": "6b504bf1",
   "metadata": {},
   "outputs": [
    {
     "name": "stdout",
     "output_type": "stream",
     "text": [
      "enter the value 45\n",
      "enter the value 45\n",
      "90\n"
     ]
    }
   ],
   "source": [
    "a=int(input(\"enter the value \"))\n",
    "b=int(input(\"enter the value \"))\n",
    "c=a+b\n",
    "print(c)"
   ]
  },
  {
   "cell_type": "code",
   "execution_count": 8,
   "id": "a5013d9c",
   "metadata": {},
   "outputs": [
    {
     "name": "stdout",
     "output_type": "stream",
     "text": [
      "enter any value of a:64\n",
      "8.0\n"
     ]
    }
   ],
   "source": [
    "a = int(input(\"enter any value of a:\"))\n",
    "b = a**0.5\n",
    "print(b)"
   ]
  },
  {
   "cell_type": "code",
   "execution_count": 10,
   "id": "b79f0d7b",
   "metadata": {},
   "outputs": [
    {
     "name": "stdout",
     "output_type": "stream",
     "text": [
      "enter hight7\n",
      "enter base:4\n",
      "area of triangl is : 14.0\n"
     ]
    }
   ],
   "source": [
    "hight = int(input(\"enter hight\"))\n",
    "base =int(input(\"enter base:\"))\n",
    "area = 0.5*(base*hight)\n",
    "print(\"area of triangl is :\",area)"
   ]
  },
  {
   "cell_type": "code",
   "execution_count": 18,
   "id": "695be7f8",
   "metadata": {},
   "outputs": [
    {
     "name": "stdout",
     "output_type": "stream",
     "text": [
      "quardatic equation ax^2+bx+c=0\n",
      "enter value of a:1\n",
      "enter value of b:5\n",
      "enter value of c:6\n",
      "the soilution are:(-3+0j),(-3+0j)=\n"
     ]
    }
   ],
   "source": [
    "import cmath\n",
    "print(\"quardatic equation ax^2+bx+c=0\")\n",
    "a  = int(input(\"enter value of a:\"))\n",
    "b = int(input(\"enter value of b:\"))\n",
    "c = int(input(\"enter value of c:\"))\n",
    "quard = (b**2)-(4*a*c)\n",
    "s1 = (-b-cmath.sqrt(quard))/(2*a)\n",
    "s2 = (-b-cmath.sqrt(quard))/(2*a)\n",
    "print(\"the soilution are:{0},{1}=\".format(s1,s2))"
   ]
  },
  {
   "cell_type": "code",
   "execution_count": 19,
   "id": "fa4c9734",
   "metadata": {},
   "outputs": [
    {
     "name": "stdout",
     "output_type": "stream",
     "text": [
      "enter first variable:2\n",
      "enter second variable:5\n",
      "before swap: 2 5\n",
      "after swap: 5 2\n"
     ]
    }
   ],
   "source": [
    "a = int(input(\"enter first variable:\"))\n",
    "b= int(input(\"enter second variable:\"))\n",
    "print(\"before swap:\",a,b)\n",
    "temp = a\n",
    "a = b\n",
    "b = temp\n",
    "print(\"after swap:\",a,b)"
   ]
  },
  {
   "cell_type": "code",
   "execution_count": 29,
   "id": "95618c85",
   "metadata": {},
   "outputs": [
    {
     "name": "stdout",
     "output_type": "stream",
     "text": [
      "2\n"
     ]
    }
   ],
   "source": [
    "import random \n",
    "print(random.randint(1,6))"
   ]
  },
  {
   "cell_type": "code",
   "execution_count": 34,
   "id": "fcadacd2",
   "metadata": {},
   "outputs": [
    {
     "name": "stdout",
     "output_type": "stream",
     "text": [
      "enter km:20\n",
      "12.42 miles\n"
     ]
    }
   ],
   "source": [
    "km = int(input(\"enter km:\"))\n",
    "miles = km*0.621\n",
    "print(miles,\"miles\")"
   ]
  },
  {
   "cell_type": "code",
   "execution_count": 35,
   "id": "551debd7",
   "metadata": {},
   "outputs": [
    {
     "name": "stdout",
     "output_type": "stream",
     "text": [
      "enter celsius:0\n",
      "32.0 F\n"
     ]
    }
   ],
   "source": [
    "cel = int(input(\"enter celsius:\"))\n",
    "far = (cel * 9/5)+32\n",
    "print(far,\"F\")"
   ]
  },
  {
   "cell_type": "code",
   "execution_count": null,
   "id": "a7c70716",
   "metadata": {},
   "outputs": [],
   "source": []
  },
  {
   "cell_type": "code",
   "execution_count": null,
   "id": "23665622",
   "metadata": {},
   "outputs": [],
   "source": []
  }
 ],
 "metadata": {
  "kernelspec": {
   "display_name": "Python 3",
   "language": "python",
   "name": "python3"
  },
  "language_info": {
   "codemirror_mode": {
    "name": "ipython",
    "version": 3
   },
   "file_extension": ".py",
   "mimetype": "text/x-python",
   "name": "python",
   "nbconvert_exporter": "python",
   "pygments_lexer": "ipython3",
   "version": "3.8.8"
  }
 },
 "nbformat": 4,
 "nbformat_minor": 5
}
